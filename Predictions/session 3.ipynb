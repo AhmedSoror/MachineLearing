{
 "cells": [
  {
   "cell_type": "code",
   "execution_count": 12,
   "outputs": [
    {
     "name": "stdout",
     "text": [
      "<class 'pandas.core.frame.DataFrame'>\nRangeIndex: 115 entries, 0 to 114\nData columns (total 15 columns):\nstudent_id            115 non-null int64\nsession_id            115 non-null int64\nactivity              115 non-null int64\nstart_time            115 non-null object\nend_time              115 non-null object\ntotal_idle_time       115 non-null float64\nmouse_wheel           115 non-null int64\nmouse_wheel_click     115 non-null int64\nmouse_click_left      115 non-null int64\nmouse_click_right     115 non-null int64\nmouse_movement        115 non-null int64\nkeystroke             115 non-null int64\nintermediate_grade    115 non-null float64\nfirst_exam            115 non-null float64\nsecond_exam           115 non-null float64\ndtypes: float64(4), int64(9), object(2)\nmemory usage: 13.6+ KB\n"
     ],
     "output_type": "stream"
    },
    {
     "data": {
      "text/plain": "LinearRegression(copy_X=True, fit_intercept=True, n_jobs=None, normalize=False)"
     },
     "metadata": {},
     "output_type": "execute_result",
     "execution_count": 12
    },
    {
     "data": {
      "text/plain": "<Figure size 432x288 with 1 Axes>",
      "image/png": "[encoded data removed]"
     },
     "metadata": {
      "needs_background": "light"
     },
     "output_type": "display_data"
    }
   ],
   "source": [
    "# exam = \"first_exam\"\n",
    "exam = \"second_exam\"\n",
    "\n",
    "import matplotlib\n",
    "import pandas as pd\n",
    "import numpy as np\n",
    "import matplotlib.pyplot as plt   #Data visualisation libraries\n",
    "import seaborn as sns\n",
    "from sklearn.model_selection import train_test_split\n",
    "from sklearn.linear_model import LinearRegression\n",
    "%matplotlib inline\n",
    "\n",
    "session = pd.read_csv('../output/session 3.csv')\n",
    "session.head()\n",
    "session.info()\n",
    "session.describe()\n",
    "session.columns\n",
    "\n",
    "sns.distplot(session[exam])\n",
    "\n",
    "session.corr()\n",
    "\n",
    "X = session[['activity', 'mouse_wheel', 'mouse_wheel_click', 'mouse_click_left',\n",
    "             'mouse_click_right', 'mouse_movement', 'keystroke', 'intermediate_grade']]\n",
    "y = session[exam]\n",
    "\n",
    "X_train, X_test, y_train, y_test = train_test_split(X, y, test_size=0.2, random_state=101)\n",
    "\n",
    "\n",
    "lm = LinearRegression()\n",
    "lm.fit(X_train, y_train)\n"
   ],
   "metadata": {
    "collapsed": false,
    "pycharm": {
     "name": "#%%\n",
     "is_executing": false
    }
   }
  },
  {
   "cell_type": "code",
   "execution_count": 13,
   "outputs": [
    {
     "data": {
      "text/plain": "<matplotlib.collections.PathCollection at 0x7f18d421a048>"
     },
     "metadata": {},
     "output_type": "execute_result",
     "execution_count": 13
    },
    {
     "data": {
      "text/plain": "<Figure size 432x288 with 1 Axes>",
      "image/png": "[encoded data removed]"
     },
     "metadata": {
      "needs_background": "light"
     },
     "output_type": "display_data"
    }
   ],
   "source": [
    "predictions = lm.predict(X_test)\n",
    "plt.scatter(y_test, predictions)\n"
   ],
   "metadata": {
    "collapsed": false,
    "pycharm": {
     "name": "#%%\n",
     "is_executing": false
    }
   }
  },
  {
   "cell_type": "code",
   "execution_count": 16,
   "outputs": [
    {
     "data": {
      "text/plain": "0.15270364899687666"
     },
     "metadata": {},
     "output_type": "execute_result",
     "execution_count": 16
    }
   ],
   "source": [
    "from sklearn.metrics import mean_absolute_error\n",
    "mean_absolute_error = mean_absolute_error(y_test, predictions)\n",
    "mean_absolute_error"
   ],
   "metadata": {
    "collapsed": false,
    "pycharm": {
     "name": "#%%\n",
     "is_executing": false
    }
   }
  },
  {
   "cell_type": "code",
   "execution_count": 15,
   "outputs": [
    {
     "data": {
      "text/plain": "0.06122843251284604"
     },
     "metadata": {},
     "output_type": "execute_result",
     "execution_count": 15
    }
   ],
   "source": [
    "from sklearn.metrics import mean_squared_error\n",
    "mean_squared_error = mean_squared_error(y_test, predictions)\n",
    "mean_squared_error\n"
   ],
   "metadata": {
    "collapsed": false,
    "pycharm": {
     "name": "#%%\n",
     "is_executing": false
    }
   }
  },
  {
   "cell_type": "code",
   "execution_count": 9,
   "outputs": [
    {
     "data": {
      "text/plain": "67     1.00\n42     0.95\n71     1.00\n114    0.95\n1      0.95\n33     0.95\n13     0.95\n55     1.00\n66     1.00\n31     1.00\n91     0.90\n21     0.95\n68     0.95\n16     1.00\n65     1.00\n43     1.00\n69     0.95\n48     0.95\n104    0.95\n45     1.00\n94     0.95\n32     0.95\n53     0.95\nName: first_exam, dtype: float64"
     },
     "metadata": {},
     "output_type": "execute_result",
     "execution_count": 9
    }
   ],
   "source": [
    "\n"
   ],
   "metadata": {
    "collapsed": false,
    "pycharm": {
     "name": "#%%\n",
     "is_executing": false
    }
   }
  }
 ],
 "metadata": {
  "language_info": {
   "codemirror_mode": {
    "name": "ipython",
    "version": 2
   },
   "file_extension": ".py",
   "mimetype": "text/x-python",
   "name": "python",
   "nbconvert_exporter": "python",
   "pygments_lexer": "ipython2",
   "version": "2.7.6"
  },
  "kernelspec": {
   "name": "python3",
   "language": "python",
   "display_name": "Python 3"
  },
  "pycharm": {
   "stem_cell": {
    "cell_type": "raw",
    "source": [],
    "metadata": {
     "collapsed": false
    }
   }
  }
 },
 "nbformat": 4,
 "nbformat_minor": 0
}